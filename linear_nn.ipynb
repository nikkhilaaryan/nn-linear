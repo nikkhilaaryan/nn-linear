{
 "cells": [
  {
   "cell_type": "markdown",
   "id": "16be9ca3",
   "metadata": {},
   "source": [
    "# Step 1: Setup\n",
    "- Created virtual environment\n",
    "- Installed NumPy & Jupyter\n",
    "- Initialized model with random slope (m) and intercept (c)\n"
   ]
  },
  {
   "cell_type": "code",
   "execution_count": 3,
   "id": "c9902ebd",
   "metadata": {},
   "outputs": [
    {
     "name": "stdout",
     "output_type": "stream",
     "text": [
      "NumPy version: 2.2.6\n",
      "Initial params -> m: 0.3047, c: -1.0400\n"
     ]
    }
   ],
   "source": [
    "import numpy as np\n",
    "\n",
    "# reproducibility (so random values are same every run)\n",
    "rng = np.random.default_rng(seed=42)\n",
    "\n",
    "# our model: y = m*x + c\n",
    "m = rng.normal()  # slope\n",
    "c = rng.normal()  # intercept\n",
    "\n",
    "print(\"NumPy version:\", np.__version__)\n",
    "print(f\"Initial params -> m: {m:.4f}, c: {c:.4f}\")\n"
   ]
  },
  {
   "cell_type": "code",
   "execution_count": null,
   "id": "7fd7451e",
   "metadata": {},
   "outputs": [],
   "source": []
  }
 ],
 "metadata": {
  "kernelspec": {
   "display_name": "Python 3",
   "language": "python",
   "name": "python3"
  },
  "language_info": {
   "codemirror_mode": {
    "name": "ipython",
    "version": 3
   },
   "file_extension": ".py",
   "mimetype": "text/x-python",
   "name": "python",
   "nbconvert_exporter": "python",
   "pygments_lexer": "ipython3",
   "version": "3.13.4"
  }
 },
 "nbformat": 4,
 "nbformat_minor": 5
}
